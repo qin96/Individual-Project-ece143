{
 "cells": [
  {
   "cell_type": "markdown",
   "metadata": {
    "collapsed": true
   },
   "source": [
    "# Documentation\n",
    "    editor: Qin Huang\n",
    "    05/21/18\n",
    "\n",
    "## Problem Discussion\n",
    "    The project is designed for Python2.\n",
    "    The project will give the solutions of three problems mainly:\n",
    "* Problem 1:\n",
    "    Given an overall desired coverage footprint and a sequence of n communications towers, what is the resulting resolved coverage?\n",
    "* Problem 2:\n",
    "    What is the total area of coverage relative to the desired total coverage area of the original footprint?\n",
    "* Problem 3:\n",
    "    On average, how many communications towers are required before full coverage is obtained?\n",
    "### Given Conditions\n",
    "* For Problem 1 \n",
    "    The large rectangular area is L×W. \n",
    "    The number of tower putted in is n.\n",
    "* For Problem 3\n",
    "    The region area needed to be covered by towers is L×W.\n",
    "    \n",
    "### Algorithm\n",
    "#### Problem1\n",
    "* Starting at a random point (start_x, start_y) in the rectangular.([0, W], [0, b]) \n",
    "    Each rectangle is defined by its width and height (width, height). And sub-rectangular will not go out of the large rectangular. [ 0 , Region dimension - Position ]random.randint(a,b)\n",
    "\n",
    "* When the next tower put in, firstly make judgement if it had any overlap area with others. If the overlapped area is larger than zero:\n",
    "    Trimmed down the next rectangular firstly:\n",
    "    * The candidate rectangulars have limited number of possible positions (startx,starty,endx,endy) which startx, endx come from the x values of previous rectangulars, and starty, endy come from the y values of previous rectangulars.\n",
    "    * To optimize the process further, we make decision if the overlapping area creates x trimming line or y trimming line exactly. For example, in fig1 of the word file, the previous rectangular creates verticle trimming line. In fig2 of the word file, the previous rectangular creates horizontal trimming line.\n",
    "    \n",
    "* Among all the candidate rectangulars, delete those have overlapping area with previous rectangulars. Generate a dictionary of all candidate rectangulars.\n",
    " \n",
    "* Choose the max one and update position.\n",
    " \n",
    "* Iterate the process and we can get a set of all rectangulars.\n",
    "\n",
    "* Calculate the area of each rectangular and sum them to have the covered area.\n",
    "    \n",
    "#### Problem2\n",
    "\n",
    "* Calculate the ratio of the covered area to L*W\n",
    "\n",
    "#### Problem3\n",
    "\n",
    "* Calculate the required n when the ratio of the covered area is 1."
   ]
  },
  {
   "cell_type": "code",
   "execution_count": 66,
   "metadata": {},
   "outputs": [
    {
     "data": {
      "image/png": "[encoded data removed]",
      "text/plain": [
       "<matplotlib.figure.Figure at 0xbb1a978>"
      ]
     },
     "metadata": {},
     "output_type": "display_data"
    }
   ],
   "source": [
    "import matplotlib.pyplot as plt\n",
    "import matplotlib.patches as patches\n",
    "import random\n",
    "from itertools import cycle\n",
    "from __future__ import division\n",
    "\n",
    "class rect(object):\n",
    "    \n",
    "    def __init__(self,startx,starty,endx,endy):\n",
    "        assert isinstance(startx,int) and startx>=0\n",
    "        assert isinstance(starty,int) and starty>=0\n",
    "        assert isinstance(endx,int) and endx>=0\n",
    "        assert isinstance(endy,int) and endy>=0\n",
    "        self.startx = startx\n",
    "        self.starty = starty\n",
    "        self.endx = endx\n",
    "        self.endy = endy\n",
    "    \n",
    "    def __repr__(self):\n",
    "        return \"rectangular(%s,%s,%s,%s)\" %(self.startx,self.starty,self.endx,self.endy)\n",
    "    \n",
    "    def area(self):\n",
    "        return (self.endx-self.startx)*(self.endy-self.starty)\n",
    "    \n",
    "    def intersect(self, other): \n",
    "        #input two sub-rectangulars\n",
    "        xdis=min(self.endx,other.endx)-max(self.startx,other.startx)\n",
    "        ydis=min(self.endy,other.endy)-max(self.starty,other.starty)\n",
    "        #ther overlapping rectangular area is xdis*ydis\n",
    "        if xdis<=0 or ydis<=0:\n",
    "            return False\n",
    "        else:\n",
    "            return True    \n",
    "        \n",
    "    # Plot \n",
    "    def graph(self,Wid,Len):\n",
    "        \n",
    "        assert isinstance(Len,int) and Len>0\n",
    "        assert isinstance(Wid,int) and Wid>0\n",
    "        fig1 = plt.figure()\n",
    "        #change color\n",
    "        colors=cycle('bgrcmykw')\n",
    "        ax = fig1.add_subplot(111, aspect='equal')\n",
    "        ax.set_xlim(0, Wid)\n",
    "        ax.set_ylim(0, Len)\n",
    "        ax.add_patch(\n",
    "            patches.Rectangle(\n",
    "                (self.startx, self.starty),   # (x,y)\n",
    "                self.endx-self.startx,          # width\n",
    "                self.endy-self.starty,  # height\n",
    "                color=colors.next()\n",
    "            )\n",
    "        )\n",
    "        plt.show()\n",
    "\n",
    "rect(0,0,5,5).graph(10,10)"
   ]
  },
  {
   "cell_type": "markdown",
   "metadata": {},
   "source": [
    "# Problem1 "
   ]
  },
  {
   "cell_type": "code",
   "execution_count": 70,
   "metadata": {},
   "outputs": [
    {
     "name": "stdout",
     "output_type": "stream",
     "text": [
      "rectangular(2,3,5,5) 0\n",
      "rectangular(2,3,5,5) 1\n",
      "rectangular(2,1,4,3) 2\n",
      "rectangular(3,4,5,5) 3\n",
      "rectangular(2,1,4,4) 4\n"
     ]
    },
    {
     "data": {
      "image/png": "[encoded data removed]",
      "text/plain": [
       "<matplotlib.figure.Figure at 0xa766160>"
      ]
     },
     "metadata": {},
     "output_type": "display_data"
    },
    {
     "name": "stdout",
     "output_type": "stream",
     "text": [
      "covered area is 18\n",
      "18\n"
     ]
    }
   ],
   "source": [
    "def covered_area(n, L, W):\n",
    "\n",
    "    #when we need n sub-rectangulars to cover a L*W region \n",
    "    assert isinstance(n,int) and n>0\n",
    "    assert isinstance(L,int) and L>0\n",
    "    assert isinstance(W,int) and W>0\n",
    "\n",
    "    num=0\n",
    "    dirc={}\n",
    "\n",
    "    while num<n:\n",
    "    #generate sub-rectangular\n",
    "        random.seed()                            #avoid pseudo random number \n",
    "        startx=random.randint(1,W-1)\n",
    "        starty=random.randint(1,L-1)\n",
    "        # the num-th rectangular will have the left bottom point(startx,starty)\n",
    "        sub_wid=random.randint(1,W-startx)\n",
    "        sub_len=random.randint(1,L-starty)\n",
    "        \n",
    "        endx=startx+sub_wid\n",
    "        endy=starty+sub_len\n",
    "        # the num-th rectangular will have the right top point(endx,endy)\n",
    "        #print(num)\n",
    "        tmp = rect(startx,starty,endx,endy)\n",
    "        dirc[num] = tmp\n",
    "        if num==0:\n",
    "            pass\n",
    "        else:\n",
    "            \n",
    "            x_in=[r.startx for r in dirc.values() if r.intersect(dirc[num]) and dirc[num].startx<r.startx<dirc[num].endx]\n",
    "            x_in+=[r.endx for r in dirc.values() if r.intersect(dirc[num]) and dirc[num].startx<r.endx<dirc[num].endx]\n",
    "            #collect all x of intersecting rectangulars which can create one vertical trimming line through the num-th rectangular\n",
    "            y_in=[r.starty for r in dirc.values() if r.intersect(dirc[num]) and dirc[num].starty<r.starty<dirc[num].endy]\n",
    "            y_in+=[r.endy for r in dirc.values() if r.intersect(dirc[num]) and dirc[num].starty<r.endy<dirc[num].endy]\n",
    "            #collect all y of intersecting rectangulars which can create one horizontal trimming line through the num-th rectangular\n",
    "\n",
    "            #after trimming the num-th rectangular, now using permutation and combination in order to choose the max one\n",
    "            x_in+=[dirc[num].startx,dirc[num].endx]\n",
    "            y_in+=[dirc[num].starty,dirc[num].endy]\n",
    "\n",
    "            x_in, y_in = list(set(x_in)), list(set(y_in))\n",
    "\n",
    "            lst=[]\n",
    "            for sx in x_in:\n",
    "                for sy in y_in:\n",
    "                    for ex in x_in:\n",
    "                        for ey in y_in:\n",
    "                            if sx >= ex or sy >= ey: continue  # invalid input\n",
    "                            for i in range(num):\n",
    "                                if rect(sx, sy, ex, ey).intersect(dirc[i])==False:\n",
    "                                    lst.append(rect(sx,sy,ex,ey))\n",
    "            \n",
    "            for item in lst:          \n",
    "                if item.area()==max([r.area() for r in lst]):\n",
    "                    dirc[num].startx=item.startx\n",
    "                    dirc[num].starty=item.starty\n",
    "                    dirc[num].endx=item.endx\n",
    "                    dirc[num].endy=item.endy\n",
    "                    #update the rectangular after trimming\n",
    "        num+=1\n",
    "            \n",
    "    \n",
    "    temt=[i for i in list(dirc.values())]\n",
    "    #each item in temt is a rectangular\n",
    "    \n",
    "    \n",
    "    fig1 = plt.figure()\n",
    "#change color\n",
    "    colors=cycle('bgrcmyk')\n",
    "    ax = fig1.add_subplot(111, aspect='equal')\n",
    "    ax.set_xlim(0, W)\n",
    "    ax.set_ylim(0, L)\n",
    "    j=0\n",
    "    print temt[j],j\n",
    "    while j<len(temt):\n",
    "        i=temt[j]\n",
    "        \n",
    "#         i.graph(Wid=W,Len=L)\n",
    "#         #plot each rectangular\n",
    "        ax.add_patch(\n",
    "            patches.Rectangle(\n",
    "                (i.startx, i.starty),   # (x,y)\n",
    "                i.endx-i.startx,          # width\n",
    "                i.endy-i.starty,  # height\n",
    "                color=colors.next()\n",
    "            )\n",
    "        )    \n",
    "    \n",
    "        j+=1\n",
    "        print i,j\n",
    "    plt.show()\n",
    "    \n",
    "    result=map(lambda x: x.area(),temt)\n",
    "    #each item in result is the area of a rectangular\n",
    "    print 'covered area is %s'%sum(result) # the total coverage of rectangular\n",
    "    return sum(result)\n",
    "\n",
    "\n",
    "\n",
    "print(covered_area(4, 5, 5))\n"
   ]
  },
  {
   "cell_type": "markdown",
   "metadata": {},
   "source": [
    "# Problem2"
   ]
  },
  {
   "cell_type": "code",
   "execution_count": 71,
   "metadata": {},
   "outputs": [
    {
     "name": "stdout",
     "output_type": "stream",
     "text": [
      "rectangular(2,2,5,5) 0\n",
      "rectangular(2,2,5,5) 1\n",
      "rectangular(3,2,4,4) 2\n",
      "rectangular(4,1,5,2) 3\n",
      "rectangular(2,4,5,5) 4\n",
      "rectangular(4,2,5,3) 5\n"
     ]
    },
    {
     "data": {
      "image/png": "[encoded data removed]",
      "text/plain": [
       "<matplotlib.figure.Figure at 0xbb4a390>"
      ]
     },
     "metadata": {},
     "output_type": "display_data"
    },
    {
     "name": "stdout",
     "output_type": "stream",
     "text": [
      "covered area is 16\n",
      "0.64\n"
     ]
    }
   ],
   "source": [
    "def relative_area(n,L,W):\n",
    "    assert isinstance(n,int) and n>0\n",
    "    assert isinstance(L,int) and L>0\n",
    "    assert isinstance(W,int) and W>0\n",
    "    return covered_area(n,L,W)/(L*W)\n",
    "\n",
    "print relative_area(5,5,5)"
   ]
  },
  {
   "cell_type": "markdown",
   "metadata": {
    "collapsed": true
   },
   "source": [
    "# Problem3"
   ]
  },
  {
   "cell_type": "code",
   "execution_count": 74,
   "metadata": {},
   "outputs": [
    {
     "name": "stdout",
     "output_type": "stream",
     "text": [
      "rectangular(2,9,5,10) 0\n",
      "rectangular(2,9,5,10) 1\n"
     ]
    },
    {
     "data": {
      "image/png": "[encoded data removed]",
      "text/plain": [
       "<matplotlib.figure.Figure at 0xa61d668>"
      ]
     },
     "metadata": {},
     "output_type": "display_data"
    },
    {
     "name": "stdout",
     "output_type": "stream",
     "text": [
      "covered area is 3\n",
      "rectangular(3,9,4,10) 0\n",
      "rectangular(3,9,4,10) 1\n",
      "rectangular(2,7,4,9) 2\n"
     ]
    },
    {
     "data": {
      "image/png": "[encoded data removed]",
      "text/plain": [
       "<matplotlib.figure.Figure at 0xa5e8a90>"
      ]
     },
     "metadata": {},
     "output_type": "display_data"
    },
    {
     "name": "stdout",
     "output_type": "stream",
     "text": [
      "covered area is 5\n",
      "rectangular(4,8,5,9) 0\n",
      "rectangular(4,8,5,9) 1\n",
      "rectangular(3,4,4,5) 2\n",
      "rectangular(3,9,4,10) 3\n"
     ]
    },
    {
     "data": {
      "image/png": "[encoded data removed]",
      "text/plain": [
       "<matplotlib.figure.Figure at 0xc1f0160>"
      ]
     },
     "metadata": {},
     "output_type": "display_data"
    },
    {
     "name": "stdout",
     "output_type": "stream",
     "text": [
      "covered area is 3\n",
      "rectangular(4,5,5,10) 0\n",
      "rectangular(4,5,5,10) 1\n",
      "rectangular(3,7,4,8) 2\n",
      "rectangular(3,5,5,7) 3\n",
      "rectangular(4,5,5,6) 4\n"
     ]
    },
    {
     "data": {
      "image/png": "[encoded data removed]",
      "text/plain": [
       "<matplotlib.figure.Figure at 0xa61fba8>"
      ]
     },
     "metadata": {},
     "output_type": "display_data"
    },
    {
     "name": "stdout",
     "output_type": "stream",
     "text": [
      "covered area is 11\n",
      "rectangular(2,9,4,10) 0\n",
      "rectangular(2,9,4,10) 1\n",
      "rectangular(3,2,4,9) 2\n",
      "rectangular(3,2,4,4) 3\n",
      "rectangular(4,3,5,10) 4\n",
      "rectangular(2,9,3,10) 5\n"
     ]
    },
    {
     "data": {
      "image/png": "[encoded data removed]",
      "text/plain": [
       "<matplotlib.figure.Figure at 0xb7e5588>"
      ]
     },
     "metadata": {},
     "output_type": "display_data"
    },
    {
     "name": "stdout",
     "output_type": "stream",
     "text": [
      "covered area is 19\n",
      "rectangular(2,3,3,10) 0\n",
      "rectangular(2,3,3,10) 1\n",
      "rectangular(3,3,5,6) 2\n",
      "rectangular(3,8,5,9) 3\n",
      "rectangular(2,4,3,6) 4\n",
      "rectangular(1,9,5,10) 5\n",
      "rectangular(4,4,5,10) 6\n"
     ]
    },
    {
     "data": {
      "image/png": "[encoded data removed]",
      "text/plain": [
       "<matplotlib.figure.Figure at 0xb686668>"
      ]
     },
     "metadata": {},
     "output_type": "display_data"
    },
    {
     "name": "stdout",
     "output_type": "stream",
     "text": [
      "covered area is 27\n",
      "rectangular(1,9,4,10) 0\n",
      "rectangular(1,9,4,10) 1\n",
      "rectangular(1,1,2,3) 2\n",
      "rectangular(1,4,5,10) 3\n",
      "rectangular(1,6,5,8) 4\n",
      "rectangular(1,6,2,10) 5\n",
      "rectangular(4,5,5,9) 6\n",
      "rectangular(3,3,4,9) 7\n"
     ]
    },
    {
     "data": {
      "image/png": "[encoded data removed]",
      "text/plain": [
       "<matplotlib.figure.Figure at 0xa63d860>"
      ]
     },
     "metadata": {},
     "output_type": "display_data"
    },
    {
     "name": "stdout",
     "output_type": "stream",
     "text": [
      "covered area is 51\n",
      "rectangular(4,2,5,6) 0\n",
      "rectangular(4,2,5,6) 1\n"
     ]
    },
    {
     "data": {
      "image/png": "[encoded data removed]",
      "text/plain": [
       "<matplotlib.figure.Figure at 0xb9a6860>"
      ]
     },
     "metadata": {},
     "output_type": "display_data"
    },
    {
     "name": "stdout",
     "output_type": "stream",
     "text": [
      "covered area is 4\n",
      "rectangular(1,8,3,10) 0\n",
      "rectangular(1,8,3,10) 1\n",
      "rectangular(1,4,2,8) 2\n"
     ]
    },
    {
     "data": {
      "image/png": "[encoded data removed]",
      "text/plain": [
       "<matplotlib.figure.Figure at 0xbab1d30>"
      ]
     },
     "metadata": {},
     "output_type": "display_data"
    },
    {
     "name": "stdout",
     "output_type": "stream",
     "text": [
      "covered area is 8\n",
      "rectangular(4,6,5,10) 0\n",
      "rectangular(4,6,5,10) 1\n",
      "rectangular(1,4,4,7) 2\n",
      "rectangular(3,7,4,9) 3\n"
     ]
    },
    {
     "data": {
      "image/png": "[encoded data removed]",
      "text/plain": [
       "<matplotlib.figure.Figure at 0xb3bf390>"
      ]
     },
     "metadata": {},
     "output_type": "display_data"
    },
    {
     "name": "stdout",
     "output_type": "stream",
     "text": [
      "covered area is 15\n",
      "rectangular(2,7,3,9) 0\n",
      "rectangular(2,7,3,9) 1\n",
      "rectangular(3,8,5,9) 2\n",
      "rectangular(1,1,2,8) 3\n",
      "rectangular(4,9,5,10) 4\n"
     ]
    },
    {
     "data": {
      "image/png": "[encoded data removed]",
      "text/plain": [
       "<matplotlib.figure.Figure at 0xb6c5cc0>"
      ]
     },
     "metadata": {},
     "output_type": "display_data"
    },
    {
     "name": "stdout",
     "output_type": "stream",
     "text": [
      "covered area is 12\n",
      "rectangular(3,7,5,10) 0\n",
      "rectangular(3,7,5,10) 1\n",
      "rectangular(2,1,5,3) 2\n",
      "rectangular(4,4,5,9) 3\n",
      "rectangular(3,7,5,9) 4\n",
      "rectangular(2,2,3,10) 5\n"
     ]
    },
    {
     "data": {
      "image/png": "[encoded data removed]",
      "text/plain": [
       "<matplotlib.figure.Figure at 0xc1bb320>"
      ]
     },
     "metadata": {},
     "output_type": "display_data"
    },
    {
     "name": "stdout",
     "output_type": "stream",
     "text": [
      "covered area is 29\n",
      "rectangular(4,9,5,10) 0\n",
      "rectangular(4,9,5,10) 1\n",
      "rectangular(4,6,5,8) 2\n",
      "rectangular(2,9,4,10) 3\n",
      "rectangular(2,1,5,4) 4\n",
      "rectangular(1,6,5,9) 5\n",
      "rectangular(4,9,5,10) 6\n"
     ]
    },
    {
     "data": {
      "image/png": "[encoded data removed]",
      "text/plain": [
       "<matplotlib.figure.Figure at 0xb7e5e48>"
      ]
     },
     "metadata": {},
     "output_type": "display_data"
    },
    {
     "name": "stdout",
     "output_type": "stream",
     "text": [
      "covered area is 27\n",
      "rectangular(2,9,5,10) 0\n",
      "rectangular(2,9,5,10) 1\n",
      "rectangular(3,8,5,9) 2\n",
      "rectangular(4,9,5,10) 3\n",
      "rectangular(3,5,5,9) 4\n",
      "rectangular(1,3,4,7) 5\n",
      "rectangular(1,9,2,10) 6\n",
      "rectangular(2,7,5,10) 7\n"
     ]
    },
    {
     "data": {
      "image/png": "[encoded data removed]",
      "text/plain": [
       "<matplotlib.figure.Figure at 0xa38ee80>"
      ]
     },
     "metadata": {},
     "output_type": "display_data"
    },
    {
     "name": "stdout",
     "output_type": "stream",
     "text": [
      "covered area is 36\n",
      "rectangular(3,6,4,9) 0\n",
      "rectangular(3,6,4,9) 1\n",
      "rectangular(2,3,5,5) 2\n",
      "rectangular(2,8,4,10) 3\n",
      "rectangular(2,1,3,10) 4\n",
      "rectangular(4,2,5,7) 5\n",
      "rectangular(3,1,4,5) 6\n",
      "rectangular(1,3,4,8) 7\n",
      "rectangular(4,9,5,10) 8\n"
     ]
    },
    {
     "data": {
      "image/png": "[encoded data removed]",
      "text/plain": [
       "<matplotlib.figure.Figure at 0xb093630>"
      ]
     },
     "metadata": {},
     "output_type": "display_data"
    },
    {
     "name": "stdout",
     "output_type": "stream",
     "text": [
      "covered area is 47\n",
      "rectangular(1,5,4,8) 0\n",
      "rectangular(1,5,4,8) 1\n",
      "rectangular(4,9,5,10) 2\n",
      "rectangular(4,5,5,9) 3\n",
      "rectangular(2,1,4,5) 4\n",
      "rectangular(2,8,4,10) 5\n",
      "rectangular(2,1,3,4) 6\n",
      "rectangular(2,8,4,10) 7\n",
      "rectangular(2,9,4,10) 8\n",
      "rectangular(1,5,5,6) 9\n"
     ]
    },
    {
     "data": {
      "image/png": "[encoded data removed]",
      "text/plain": [
       "<matplotlib.figure.Figure at 0xaf0a710>"
      ]
     },
     "metadata": {},
     "output_type": "display_data"
    },
    {
     "name": "stdout",
     "output_type": "stream",
     "text": [
      "covered area is 39\n",
      "rectangular(3,9,5,10) 0\n",
      "rectangular(3,9,5,10) 1\n",
      "rectangular(4,6,5,9) 2\n",
      "rectangular(1,3,3,6) 3\n",
      "rectangular(4,6,5,9) 4\n",
      "rectangular(1,9,2,10) 5\n",
      "rectangular(2,3,4,9) 6\n",
      "rectangular(3,8,5,10) 7\n",
      "rectangular(4,8,5,9) 8\n",
      "rectangular(4,2,5,6) 9\n",
      "rectangular(2,9,5,10) 10\n"
     ]
    },
    {
     "data": {
      "image/png": "[encoded data removed]",
      "text/plain": [
       "<matplotlib.figure.Figure at 0xa50d3c8>"
      ]
     },
     "metadata": {},
     "output_type": "display_data"
    },
    {
     "name": "stdout",
     "output_type": "stream",
     "text": [
      "covered area is 39\n",
      "rectangular(3,5,4,6) 0\n",
      "rectangular(3,5,4,6) 1\n",
      "rectangular(2,6,5,8) 2\n",
      "rectangular(4,6,5,10) 3\n",
      "rectangular(1,3,3,7) 4\n",
      "rectangular(3,5,4,9) 5\n",
      "rectangular(2,2,4,10) 6\n",
      "rectangular(3,4,5,5) 7\n",
      "rectangular(1,5,3,9) 8\n",
      "rectangular(1,4,5,6) 9\n",
      "rectangular(1,2,4,9) 10\n",
      "rectangular(4,8,5,10) 11\n"
     ]
    },
    {
     "data": {
      "image/png": "[encoded data removed]",
      "text/plain": [
       "<matplotlib.figure.Figure at 0xbf6a0f0>"
      ]
     },
     "metadata": {},
     "output_type": "display_data"
    },
    {
     "name": "stdout",
     "output_type": "stream",
     "text": [
      "covered area is 80\n",
      "rectangular(3,4,5,7) 0\n",
      "rectangular(3,4,5,7) 1\n"
     ]
    },
    {
     "data": {
      "image/png": "[encoded data removed]",
      "text/plain": [
       "<matplotlib.figure.Figure at 0xa34c4a8>"
      ]
     },
     "metadata": {},
     "output_type": "display_data"
    },
    {
     "name": "stdout",
     "output_type": "stream",
     "text": [
      "covered area is 6\n",
      "rectangular(2,8,4,9) 0\n",
      "rectangular(2,8,4,9) 1\n",
      "rectangular(2,7,3,8) 2\n"
     ]
    },
    {
     "data": {
      "image/png": "[encoded data removed]",
      "text/plain": [
       "<matplotlib.figure.Figure at 0xbb47550>"
      ]
     },
     "metadata": {},
     "output_type": "display_data"
    },
    {
     "name": "stdout",
     "output_type": "stream",
     "text": [
      "covered area is 3\n",
      "rectangular(4,3,5,8) 0\n",
      "rectangular(4,3,5,8) 1\n",
      "rectangular(2,3,3,5) 2\n",
      "rectangular(3,5,4,6) 3\n"
     ]
    },
    {
     "data": {
      "image/png": "[encoded data removed]",
      "text/plain": [
       "<matplotlib.figure.Figure at 0xbd584a8>"
      ]
     },
     "metadata": {},
     "output_type": "display_data"
    },
    {
     "name": "stdout",
     "output_type": "stream",
     "text": [
      "covered area is 8\n",
      "rectangular(4,2,5,6) 0\n",
      "rectangular(4,2,5,6) 1\n",
      "rectangular(2,5,3,7) 2\n",
      "rectangular(1,3,2,9) 3\n",
      "rectangular(4,9,5,10) 4\n"
     ]
    },
    {
     "data": {
      "image/png": "[encoded data removed]",
      "text/plain": [
       "<matplotlib.figure.Figure at 0xb991390>"
      ]
     },
     "metadata": {},
     "output_type": "display_data"
    },
    {
     "name": "stdout",
     "output_type": "stream",
     "text": [
      "covered area is 13\n",
      "rectangular(4,8,5,9) 0\n",
      "rectangular(4,8,5,9) 1\n",
      "rectangular(2,9,4,10) 2\n",
      "rectangular(2,3,3,9) 3\n",
      "rectangular(3,8,5,10) 4\n",
      "rectangular(4,9,5,10) 5\n"
     ]
    },
    {
     "data": {
      "image/png": "[encoded data removed]",
      "text/plain": [
       "<matplotlib.figure.Figure at 0x8838f98>"
      ]
     },
     "metadata": {},
     "output_type": "display_data"
    },
    {
     "name": "stdout",
     "output_type": "stream",
     "text": [
      "covered area is 14\n",
      "rectangular(1,6,3,10) 0\n",
      "rectangular(1,6,3,10) 1\n",
      "rectangular(1,5,3,6) 2\n",
      "rectangular(4,3,5,5) 3\n",
      "rectangular(4,4,5,9) 4\n",
      "rectangular(3,5,4,8) 5\n",
      "rectangular(4,7,5,8) 6\n"
     ]
    },
    {
     "data": {
      "image/png": "[encoded data removed]",
      "text/plain": [
       "<matplotlib.figure.Figure at 0xbd58a20>"
      ]
     },
     "metadata": {},
     "output_type": "display_data"
    },
    {
     "name": "stdout",
     "output_type": "stream",
     "text": [
      "covered area is 21\n",
      "rectangular(2,5,4,8) 0\n",
      "rectangular(2,5,4,8) 1\n",
      "rectangular(4,9,5,10) 2\n",
      "rectangular(1,8,3,10) 3\n",
      "rectangular(2,1,5,5) 4\n",
      "rectangular(3,5,4,10) 5\n",
      "rectangular(4,3,5,9) 6\n",
      "rectangular(2,5,5,7) 7\n"
     ]
    },
    {
     "data": {
      "image/png": "[encoded data removed]",
      "text/plain": [
       "<matplotlib.figure.Figure at 0xa49a278>"
      ]
     },
     "metadata": {},
     "output_type": "display_data"
    },
    {
     "name": "stdout",
     "output_type": "stream",
     "text": [
      "covered area is 40\n",
      "rectangular(1,2,4,10) 0\n",
      "rectangular(1,2,4,10) 1\n",
      "rectangular(4,5,5,6) 2\n",
      "rectangular(4,1,5,4) 3\n",
      "rectangular(3,3,5,5) 4\n",
      "rectangular(2,3,3,6) 5\n",
      "rectangular(1,7,5,8) 6\n",
      "rectangular(4,1,5,6) 7\n",
      "rectangular(3,2,4,3) 8\n"
     ]
    },
    {
     "data": {
      "image/png": "[encoded data removed]",
      "text/plain": [
       "<matplotlib.figure.Figure at 0xa38ee80>"
      ]
     },
     "metadata": {},
     "output_type": "display_data"
    },
    {
     "name": "stdout",
     "output_type": "stream",
     "text": [
      "covered area is 45\n",
      "rectangular(4,7,5,8) 0\n",
      "rectangular(4,7,5,8) 1\n",
      "rectangular(1,6,4,9) 2\n",
      "rectangular(1,7,2,10) 3\n",
      "rectangular(3,7,5,8) 4\n",
      "rectangular(2,4,3,5) 5\n",
      "rectangular(2,1,5,4) 6\n",
      "rectangular(2,7,5,9) 7\n",
      "rectangular(4,2,5,3) 8\n",
      "rectangular(2,2,4,4) 9\n"
     ]
    },
    {
     "data": {
      "image/png": "[encoded data removed]",
      "text/plain": [
       "<matplotlib.figure.Figure at 0x70aba20>"
      ]
     },
     "metadata": {},
     "output_type": "display_data"
    },
    {
     "name": "stdout",
     "output_type": "stream",
     "text": [
      "covered area is 36\n",
      "rectangular(3,7,4,10) 0\n",
      "rectangular(3,7,4,10) 1\n",
      "rectangular(3,2,5,5) 2\n",
      "rectangular(4,8,5,10) 3\n",
      "rectangular(2,7,3,9) 4\n",
      "rectangular(2,7,5,10) 5\n",
      "rectangular(1,9,2,10) 6\n",
      "rectangular(3,9,4,10) 7\n",
      "rectangular(4,8,5,9) 8\n",
      "rectangular(3,3,5,10) 9\n",
      "rectangular(2,2,5,3) 10\n"
     ]
    },
    {
     "data": {
      "image/png": "[encoded data removed]",
      "text/plain": [
       "<matplotlib.figure.Figure at 0xa598c18>"
      ]
     },
     "metadata": {},
     "output_type": "display_data"
    },
    {
     "name": "stdout",
     "output_type": "stream",
     "text": [
      "covered area is 42\n",
      "rectangular(1,8,3,10) 0\n",
      "rectangular(1,8,3,10) 1\n",
      "rectangular(3,6,4,9) 2\n",
      "rectangular(2,2,3,10) 3\n",
      "rectangular(2,2,3,8) 4\n",
      "rectangular(3,6,5,9) 5\n",
      "rectangular(2,5,4,8) 6\n",
      "rectangular(1,9,2,10) 7\n",
      "rectangular(1,7,2,10) 8\n",
      "rectangular(1,4,5,8) 9\n",
      "rectangular(3,1,4,8) 10\n",
      "rectangular(3,5,4,6) 11\n"
     ]
    },
    {
     "data": {
      "image/png": "[encoded data removed]",
      "text/plain": [
       "<matplotlib.figure.Figure at 0xb6860f0>"
      ]
     },
     "metadata": {},
     "output_type": "display_data"
    },
    {
     "name": "stdout",
     "output_type": "stream",
     "text": [
      "covered area is 61\n",
      "rectangular(1,5,2,9) 0\n",
      "rectangular(1,5,2,9) 1\n"
     ]
    },
    {
     "data": {
      "image/png": "[encoded data removed]",
      "text/plain": [
       "<matplotlib.figure.Figure at 0xb12f4e0>"
      ]
     },
     "metadata": {},
     "output_type": "display_data"
    },
    {
     "name": "stdout",
     "output_type": "stream",
     "text": [
      "covered area is 4\n",
      "rectangular(3,7,4,9) 0\n",
      "rectangular(3,7,4,9) 1\n",
      "rectangular(4,4,5,6) 2\n"
     ]
    },
    {
     "data": {
      "image/png": "[encoded data removed]",
      "text/plain": [
       "<matplotlib.figure.Figure at 0xbd64940>"
      ]
     },
     "metadata": {},
     "output_type": "display_data"
    },
    {
     "name": "stdout",
     "output_type": "stream",
     "text": [
      "covered area is 4\n",
      "rectangular(3,9,5,10) 0\n",
      "rectangular(3,9,5,10) 1\n",
      "rectangular(3,5,4,7) 2\n",
      "rectangular(2,7,4,10) 3\n"
     ]
    },
    {
     "data": {
      "image/png": "[encoded data removed]",
      "text/plain": [
       "<matplotlib.figure.Figure at 0xa6242e8>"
      ]
     },
     "metadata": {},
     "output_type": "display_data"
    },
    {
     "name": "stdout",
     "output_type": "stream",
     "text": [
      "covered area is 10\n",
      "rectangular(3,2,4,9) 0\n",
      "rectangular(3,2,4,9) 1\n",
      "rectangular(4,9,5,10) 2\n",
      "rectangular(3,2,4,8) 3\n",
      "rectangular(3,4,5,8) 4\n"
     ]
    },
    {
     "data": {
      "image/png": "[encoded data removed]",
      "text/plain": [
       "<matplotlib.figure.Figure at 0xa624240>"
      ]
     },
     "metadata": {},
     "output_type": "display_data"
    },
    {
     "name": "stdout",
     "output_type": "stream",
     "text": [
      "covered area is 22\n",
      "rectangular(1,2,5,5) 0\n",
      "rectangular(1,2,5,5) 1\n",
      "rectangular(2,6,5,8) 2\n",
      "rectangular(4,3,5,6) 3\n",
      "rectangular(1,7,3,9) 4\n",
      "rectangular(2,1,5,6) 5\n"
     ]
    },
    {
     "data": {
      "image/png": "[encoded data removed]",
      "text/plain": [
       "<matplotlib.figure.Figure at 0xa4a9128>"
      ]
     },
     "metadata": {},
     "output_type": "display_data"
    },
    {
     "name": "stdout",
     "output_type": "stream",
     "text": [
      "covered area is 40\n",
      "rectangular(2,1,4,7) 0\n",
      "rectangular(2,1,4,7) 1\n",
      "rectangular(3,7,4,10) 2\n",
      "rectangular(2,2,3,10) 3\n",
      "rectangular(2,3,3,8) 4\n",
      "rectangular(1,3,3,10) 5\n",
      "rectangular(2,9,3,10) 6\n"
     ]
    },
    {
     "data": {
      "image/png": "[encoded data removed]",
      "text/plain": [
       "<matplotlib.figure.Figure at 0xc22ea90>"
      ]
     },
     "metadata": {},
     "output_type": "display_data"
    },
    {
     "name": "stdout",
     "output_type": "stream",
     "text": [
      "covered area is 43\n",
      "rectangular(4,5,5,10) 0\n",
      "rectangular(4,5,5,10) 1\n",
      "rectangular(4,5,5,10) 2\n",
      "rectangular(3,2,4,3) 3\n",
      "rectangular(4,4,5,7) 4\n",
      "rectangular(1,8,3,9) 5\n",
      "rectangular(3,5,5,8) 6\n",
      "rectangular(1,4,4,10) 7\n"
     ]
    },
    {
     "data": {
      "image/png": "[encoded data removed]",
      "text/plain": [
       "<matplotlib.figure.Figure at 0xb297eb8>"
      ]
     },
     "metadata": {},
     "output_type": "display_data"
    },
    {
     "name": "stdout",
     "output_type": "stream",
     "text": [
      "covered area is 40\n",
      "rectangular(4,2,5,7) 0\n",
      "rectangular(4,2,5,7) 1\n",
      "rectangular(1,9,2,10) 2\n",
      "rectangular(1,4,3,6) 3\n",
      "rectangular(2,5,5,10) 4\n",
      "rectangular(3,7,4,9) 5\n",
      "rectangular(4,4,5,5) 6\n",
      "rectangular(3,3,5,5) 7\n",
      "rectangular(2,9,4,10) 8\n"
     ]
    },
    {
     "data": {
      "image/png": "[encoded data removed]",
      "text/plain": [
       "<matplotlib.figure.Figure at 0xa856cc0>"
      ]
     },
     "metadata": {},
     "output_type": "display_data"
    },
    {
     "name": "stdout",
     "output_type": "stream",
     "text": [
      "covered area is 34\n",
      "rectangular(1,7,4,8) 0\n",
      "rectangular(1,7,4,8) 1\n",
      "rectangular(3,3,5,7) 2\n",
      "rectangular(4,3,5,7) 3\n",
      "rectangular(3,4,4,8) 4\n",
      "rectangular(3,2,4,3) 5\n",
      "rectangular(4,5,5,9) 6\n",
      "rectangular(4,4,5,5) 7\n",
      "rectangular(4,4,5,10) 8\n",
      "rectangular(2,3,5,10) 9\n"
     ]
    },
    {
     "data": {
      "image/png": "[encoded data removed]",
      "text/plain": [
       "<matplotlib.figure.Figure at 0xaf00a20>"
      ]
     },
     "metadata": {},
     "output_type": "display_data"
    },
    {
     "name": "stdout",
     "output_type": "stream",
     "text": [
      "covered area is 52\n",
      "rectangular(1,4,3,8) 0\n",
      "rectangular(1,4,3,8) 1\n"
     ]
    },
    {
     "data": {
      "image/png": "[encoded data removed]",
      "text/plain": [
       "<matplotlib.figure.Figure at 0xa6240b8>"
      ]
     },
     "metadata": {},
     "output_type": "display_data"
    },
    {
     "name": "stdout",
     "output_type": "stream",
     "text": [
      "covered area is 8\n",
      "rectangular(1,6,5,7) 0\n",
      "rectangular(1,6,5,7) 1\n",
      "rectangular(1,9,3,10) 2\n"
     ]
    },
    {
     "data": {
      "image/png": "[encoded data removed]",
      "text/plain": [
       "<matplotlib.figure.Figure at 0xaf0a0b8>"
      ]
     },
     "metadata": {},
     "output_type": "display_data"
    },
    {
     "name": "stdout",
     "output_type": "stream",
     "text": [
      "covered area is 6\n",
      "rectangular(4,1,5,10) 0\n",
      "rectangular(4,1,5,10) 1\n",
      "rectangular(1,5,4,10) 2\n",
      "rectangular(4,7,5,8) 3\n"
     ]
    },
    {
     "data": {
      "image/png": "[encoded data removed]",
      "text/plain": [
       "<matplotlib.figure.Figure at 0xb225ac8>"
      ]
     },
     "metadata": {},
     "output_type": "display_data"
    },
    {
     "name": "stdout",
     "output_type": "stream",
     "text": [
      "covered area is 25\n",
      "rectangular(3,7,4,8) 0\n",
      "rectangular(3,7,4,8) 1\n",
      "rectangular(1,2,4,7) 2\n",
      "rectangular(3,3,5,4) 3\n",
      "rectangular(3,8,5,9) 4\n"
     ]
    },
    {
     "data": {
      "image/png": "[encoded data removed]",
      "text/plain": [
       "<matplotlib.figure.Figure at 0xa49add8>"
      ]
     },
     "metadata": {},
     "output_type": "display_data"
    },
    {
     "name": "stdout",
     "output_type": "stream",
     "text": [
      "covered area is 20\n",
      "rectangular(2,1,4,5) 0\n",
      "rectangular(2,1,4,5) 1\n",
      "rectangular(2,9,3,10) 2\n",
      "rectangular(1,3,4,4) 3\n",
      "rectangular(4,4,5,8) 4\n",
      "rectangular(1,1,2,7) 5\n"
     ]
    },
    {
     "data": {
      "image/png": "[encoded data removed]",
      "text/plain": [
       "<matplotlib.figure.Figure at 0xb5cdcf8>"
      ]
     },
     "metadata": {},
     "output_type": "display_data"
    },
    {
     "name": "stdout",
     "output_type": "stream",
     "text": [
      "covered area is 22\n",
      "rectangular(1,1,4,8) 0\n",
      "rectangular(1,1,4,8) 1\n",
      "rectangular(1,9,2,10) 2\n",
      "rectangular(1,3,2,6) 3\n",
      "rectangular(3,6,5,10) 4\n",
      "rectangular(4,6,5,10) 5\n",
      "rectangular(3,3,5,7) 6\n"
     ]
    },
    {
     "data": {
      "image/png": "[encoded data removed]",
      "text/plain": [
       "<matplotlib.figure.Figure at 0xc1f0c18>"
      ]
     },
     "metadata": {},
     "output_type": "display_data"
    },
    {
     "name": "stdout",
     "output_type": "stream",
     "text": [
      "covered area is 45\n",
      "rectangular(2,9,5,10) 0\n",
      "rectangular(2,9,5,10) 1\n",
      "rectangular(1,6,2,8) 2\n",
      "rectangular(2,6,3,10) 3\n",
      "rectangular(4,6,5,7) 4\n",
      "rectangular(2,4,3,7) 5\n",
      "rectangular(1,5,3,6) 6\n",
      "rectangular(3,4,4,9) 7\n"
     ]
    },
    {
     "data": {
      "image/png": "[encoded data removed]",
      "text/plain": [
       "<matplotlib.figure.Figure at 0xa49a390>"
      ]
     },
     "metadata": {},
     "output_type": "display_data"
    },
    {
     "name": "stdout",
     "output_type": "stream",
     "text": [
      "covered area is 20\n",
      "rectangular(3,6,4,8) 0\n",
      "rectangular(3,6,4,8) 1\n",
      "rectangular(1,9,4,10) 2\n",
      "rectangular(3,9,4,10) 3\n",
      "rectangular(4,6,5,7) 4\n",
      "rectangular(1,5,5,9) 5\n",
      "rectangular(2,3,3,9) 6\n",
      "rectangular(2,8,5,10) 7\n",
      "rectangular(4,9,5,10) 8\n"
     ]
    },
    {
     "data": {
      "image/png": "[encoded data removed]",
      "text/plain": [
       "<matplotlib.figure.Figure at 0xb3b0978>"
      ]
     },
     "metadata": {},
     "output_type": "display_data"
    },
    {
     "name": "stdout",
     "output_type": "stream",
     "text": [
      "covered area is 36\n",
      "rectangular(2,9,5,10) 0\n",
      "rectangular(2,9,5,10) 1\n",
      "rectangular(2,9,3,10) 2\n",
      "rectangular(3,4,5,9) 3\n",
      "rectangular(2,7,4,8) 4\n",
      "rectangular(3,1,4,6) 5\n",
      "rectangular(1,6,2,8) 6\n",
      "rectangular(1,7,3,8) 7\n",
      "rectangular(2,5,4,6) 8\n",
      "rectangular(4,9,5,10) 9\n"
     ]
    },
    {
     "data": {
      "image/png": "[encoded data removed]",
      "text/plain": [
       "<matplotlib.figure.Figure at 0x88597f0>"
      ]
     },
     "metadata": {},
     "output_type": "display_data"
    },
    {
     "name": "stdout",
     "output_type": "stream",
     "text": [
      "covered area is 28\n",
      "rectangular(3,7,4,10) 0\n",
      "rectangular(3,7,4,10) 1\n",
      "rectangular(4,9,5,10) 2\n",
      "rectangular(1,5,3,7) 3\n",
      "rectangular(2,5,4,8) 4\n",
      "rectangular(4,6,5,10) 5\n",
      "rectangular(1,8,4,9) 6\n",
      "rectangular(2,5,5,6) 7\n",
      "rectangular(3,5,5,10) 8\n",
      "rectangular(1,1,4,8) 9\n",
      "rectangular(1,8,3,9) 10\n"
     ]
    },
    {
     "data": {
      "image/png": "[encoded data removed]",
      "text/plain": [
       "<matplotlib.figure.Figure at 0xaee5898>"
      ]
     },
     "metadata": {},
     "output_type": "display_data"
    },
    {
     "name": "stdout",
     "output_type": "stream",
     "text": [
      "covered area is 57\n",
      "The average number of needed tower is 10.6\n",
      "10.6\n"
     ]
    }
   ],
   "source": [
    "def tower_needed(L,W):\n",
    "    \n",
    "    assert isinstance(L,int) and L>0\n",
    "    assert isinstance(W,int) and W>0\n",
    "    \n",
    "    ratio=0\n",
    "    n=1\n",
    "    while ratio<0.999:\n",
    "        ratio=relative_area(n,L,W)\n",
    "        n+=1\n",
    "    return n\n",
    "\n",
    "def averge(sample,Len,Wid):\n",
    "    \n",
    "    assert isinstance(sample,int) and sample>0\n",
    "    assert isinstance(Len,int) and Len>0\n",
    "    assert isinstance(Wid,int) and Wid>0\n",
    "    \n",
    "    lst0=[]\n",
    "    k=0\n",
    "    while k<sample:\n",
    "        lst0.append(tower_needed(Len,Wid))\n",
    "        k+=1\n",
    "    ave=sum(lst0)/len(lst0)\n",
    "    print('The average number of needed tower is %s')%ave\n",
    "    return ave\n",
    "    \n",
    "print averge(5,10,5)"
   ]
  },
  {
   "cell_type": "code",
   "execution_count": null,
   "metadata": {
    "collapsed": true
   },
   "outputs": [],
   "source": []
  }
 ],
 "metadata": {
  "kernelspec": {
   "display_name": "Python 2",
   "language": "python",
   "name": "python2"
  },
  "language_info": {
   "codemirror_mode": {
    "name": "ipython",
    "version": 2
   },
   "file_extension": ".py",
   "mimetype": "text/x-python",
   "name": "python",
   "nbconvert_exporter": "python",
   "pygments_lexer": "ipython2",
   "version": "2.7.14"
  }
 },
 "nbformat": 4,
 "nbformat_minor": 2
}
